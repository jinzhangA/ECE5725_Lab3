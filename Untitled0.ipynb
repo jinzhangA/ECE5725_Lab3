{
 "metadata": {
  "name": "",
  "signature": "sha256:e0f52fc22c92a2a920f7b7002b3ac30d71c39e8292b585e3f63cc15414e43940"
 },
 "nbformat": 3,
 "nbformat_minor": 0,
 "worksheets": [
  {
   "cells": [
    {
     "cell_type": "code",
     "collapsed": false,
     "input": [
      "import RPi.GPIO as GPIO\n",
      "import subprocess\n",
      "import time\n",
      "\n",
      "GPIO.setmode(GPIO.BCM)\n",
      "GPIO.setup(27, GPIO.IN, pull_up_down=GPIO.PUD_UP)\n",
      "previous_27 = 0\n",
      "GPIO.setup(24, GPIO.OUT)\n",
      "\n",
      "def GPIO27_callback(channel):\n",
      "    print \"Button 27 pressed, quit\"\n",
      "    p.stop()\n",
      "    GPIO.cleanup()\n",
      "    exit()\n",
      "\n",
      "GPIO.add_event_detect(27, GPIO.FALLING, callback = GPIO27_callback, bouncetime = 300)\n",
      "\n",
      "channel = 24\n",
      "frequency = 500\n",
      "\n",
      "p = GPIO.PWM(channel, frequency)\n",
      "p.start(100)\n",
      "time.sleep(10)\n",
      "p.stop()\n",
      "GPIO.cleanup()\n"
     ],
     "language": "python",
     "metadata": {},
     "outputs": [
      {
       "output_type": "stream",
       "stream": "stdout",
       "text": [
        "Button 27 pressed, quit\n"
       ]
      },
      {
       "output_type": "stream",
       "stream": "stderr",
       "text": [
        "-c:25: RuntimeWarning: No channels have been set up yet - nothing to clean up!  Try cleaning up at the end of your program instead!\n"
       ]
      }
     ]
    },
    {
     "cell_type": "code",
     "collapsed": false,
     "input": [],
     "language": "python",
     "metadata": {},
     "outputs": []
    }
   ],
   "metadata": {}
  }
 ]
}